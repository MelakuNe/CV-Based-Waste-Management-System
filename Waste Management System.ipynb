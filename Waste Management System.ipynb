{
 "cells": [
  {
   "attachments": {},
   "cell_type": "markdown",
   "id": "c372822f-6cd5-4b53-8fb0-85f2e63799db",
   "metadata": {},
   "source": [
    "### Conection to ESP32 via port ### "
   ]
  },
  {
   "cell_type": "code",
   "execution_count": 1,
   "id": "3aee4089",
   "metadata": {},
   "outputs": [
    {
     "name": "stdout",
     "output_type": "stream",
     "text": [
      "Start\n",
      "Connected\n"
     ]
    }
   ],
   "source": [
    "import serial\n",
    "import time\n",
    "\n",
    "print(\"Start\")\n",
    "port=\"COM5\" #This will be different for various devices and on windows it will probably be a COM port.\n",
    "bluetooth=serial.Serial(port, 115200)#Start communications with the bluetooth unit\n",
    "print(\"Connected\")\n",
    "bluetooth.flushInput()"
   ]
  },
  {
   "attachments": {},
   "cell_type": "markdown",
   "id": "1e6c118b-7428-4b07-af7e-1e3c6d67581c",
   "metadata": {},
   "source": [
    "### Industrial camera settings ###"
   ]
  },
  {
   "cell_type": "code",
   "execution_count": 2,
   "id": "6bad061f",
   "metadata": {},
   "outputs": [
    {
     "name": "stderr",
     "output_type": "stream",
     "text": [
      "c:\\users\\admin\\appdata\\local\\programs\\python\\python38\\lib\\site-packages\\tqdm\\auto.py:22: TqdmWarning: IProgress not found. Please update jupyter and ipywidgets. See https://ipywidgets.readthedocs.io/en/stable/user_install.html\n",
      "  from .autonotebook import tqdm as notebook_tqdm\n"
     ]
    },
    {
     "name": "stdout",
     "output_type": "stream",
     "text": [
      "Name of device:  acA1920-40gmDVL \n",
      "Serial number:  22193660\n"
     ]
    }
   ],
   "source": [
    "import numpy as np\n",
    "import torch\n",
    "from matplotlib import pyplot as plt\n",
    "import cv2 as cv\n",
    "import pypylon.pylon as py\n",
    "from ultralytics import YOLO\n",
    "\n",
    "tlf = py.TlFactory.GetInstance()\n",
    "devices = tlf.EnumerateDevices()\n",
    "for d in devices:\n",
    "    print('Name of device: ', d.GetModelName(), '\\nSerial number: ', d.GetSerialNumber())\n",
    "\n",
    "cam = py.InstantCamera(tlf.CreateDevice(devices[0]))\n",
    "cam = py.InstantCamera(tlf.CreateFirstDevice())\n",
    "cam.Open()\n",
    "cam.TriggerSelector = \"FrameStart\"\n",
    "# selector handling:\n",
    "# first set selector than the dependent value:\n",
    "cam.TriggerSelector = \"FrameStart\"\n",
    "cam.TriggerSource = \"Line1\"\n",
    "cam.PixelFormat = \"Mono8\"\n",
    "# like above, alternative is the long form\n",
    "cam.PixelFormat.SetValue(\"Mono8\")\n",
    "res = cam.GrabOne(200)\n",
    "# full method call\n",
    "img = res.GetArray()\n",
    "# abbrev\n",
    "img = res.Array\n",
    "img = img/255"
   ]
  },
  {
   "cell_type": "markdown",
   "id": "8431a624-906e-4b76-a1f0-c1d52df1bd3f",
   "metadata": {},
   "source": [
    "### Connecting the YOLOv8 model and processing each frame in a loop ###"
   ]
  },
  {
   "cell_type": "code",
   "execution_count": 33,
   "id": "ba756acc",
   "metadata": {},
   "outputs": [
    {
     "name": "stderr",
     "output_type": "stream",
     "text": [
      "Ultralytics YOLOv8.0.20  Python-3.8.9 torch-1.13.1+cpu CPU\n",
      "Model summary (fused): 168 layers, 3006038 parameters, 0 gradients, 8.1 GFLOPs\n"
     ]
    },
    {
     "data": {
      "text/plain": [
       "-1"
      ]
     },
     "execution_count": 33,
     "metadata": {},
     "output_type": "execute_result"
    }
   ],
   "source": [
    "import numpy as np\n",
    "\n",
    "consecutive_frame = 3\n",
    "frame_count = 0\n",
    "\n",
    "model = YOLO(\"C:/Users/admin/Downloads/Basler Camera Test/yolov8/best_own_dataset.pt\")\n",
    "#connection to computer GPU\n",
    "model = model.to('cuda')\n",
    "collect = []\n",
    "pred = []\n",
    "start_collect = time.time()\n",
    "while(True):\n",
    "    res = cam.GrabOne(500)\n",
    "    img = res.GetArray()\n",
    "    img = res.Array\n",
    "    \n",
    "    #cropping the image to a square\n",
    "    img = cv.cvtColor(img, cv.COLOR_GRAY2RGB)[800:1300, 200:1200]\n",
    "    \n",
    "    torch_img = torch.from_numpy(img).device\n",
    "    \n",
    "    #time to get a frame from an industrial camera\n",
    "    finish_collect = time.time()\n",
    "    collect_time = finish_collect - start_collect\n",
    "    collect.append(collect_time)\n",
    "    \n",
    "    #time for predictioni of one frame \n",
    "    start_pred = time.time()\n",
    "    prediction_result = model.predict(source = img, conf=0.25, show=True )\n",
    "    finish_pred = time.time()\n",
    "    pred_time = finish_pred - start_pred \n",
    "    \n",
    "    #record information to array \n",
    "    pred.append(pred_time)\n",
    "    boxes = []\n",
    "    labels = []\n",
    "\n",
    "    for i in prediction_result[0]:\n",
    "        i = i.cpu().numpy()\n",
    "        boxes.append(np.append(i.boxes.xyxy[0], i.boxes.cls[0]))\n",
    "\n",
    "    out = 0 \n",
    "    LGD = np.zeros(7)\n",
    "    for (xA, yA, xB, yB, cls) in boxes:\n",
    "        n = int((yA+yB/2) // 250)\n",
    "        if ((n < 5) and (LGD[n] == 0) and (xA+xB/2) > 250):\n",
    "            LGD[n] = int(1)\n",
    "            t=int(5+cls)\n",
    "            LGD[t] = int(1)\n",
    "    for k in np.arange(7):\n",
    "        out = out + LGD[k]*2**k\n",
    "    out = int(out)\n",
    "    ##if outprev != out : \n",
    "    bluetooth.write(str.encode(str(int(out)) + \"\\n\"))#These need to be bytes not unicode\n",
    "\n",
    "    if cv.waitKey(1) & 0xFF == ord('q'):\n",
    "        break\n",
    "\n",
    "# finally, close the window\n",
    "cv.destroyAllWindows()\n",
    "cv.waitKey(1)"
   ]
  },
  {
   "cell_type": "markdown",
   "id": "5ef9e811-ff74-4a3d-bdea-ab59eb3335d7",
   "metadata": {},
   "source": [
    "### Getting the coordinates of which section the trash is in ###"
   ]
  },
  {
   "cell_type": "code",
   "execution_count": 10,
   "id": "86e51316",
   "metadata": {},
   "outputs": [
    {
     "name": "stdout",
     "output_type": "stream",
     "text": [
      "485.0 625.0 866.0 1066.0 1.0\n",
      "483.0 656.0 728.0 1065.0 1.0\n",
      "1454.0 1.0 1920.0 428.0 1.0\n",
      "1296.0 184.0 1543.0 516.0 0.0\n"
     ]
    }
   ],
   "source": [
    "for (xA, yA, xB, yB, cls) in boxes:\n",
    "    print(xA, yA, xB, yB, cls)"
   ]
  },
  {
   "cell_type": "markdown",
   "id": "299e04fa-f7fe-47df-8b19-037363c8edf6",
   "metadata": {},
   "source": [
    "### Create cvs file to store information about time r"
   ]
  },
  {
   "cell_type": "code",
   "execution_count": null,
   "id": "96e77be3-624f-4585-9b2f-36960c9c2082",
   "metadata": {},
   "outputs": [],
   "source": [
    "#choose the speed\n",
    "import pandas as pd\n",
    "speed_type = \"slow\" #slow,middle,fast\n",
    "\n",
    "file = {'speed':speed_type, 'Collection': collect, 'Analysis and Display': pred}\n",
    "df = pd.DataFrame(file)\n",
    "pd.DataFrame.to_csv(df, 'time_info_speed.csv')"
   ]
  },
  {
   "cell_type": "code",
   "execution_count": null,
   "id": "f1ea9e71-dbb6-4811-9200-8c4ae00ee448",
   "metadata": {},
   "outputs": [],
   "source": [
    "pd.read_csv('file_veryquick.csv')"
   ]
  },
  {
   "cell_type": "code",
   "execution_count": null,
   "id": "ca475899-e18b-4478-b89e-6088345786f3",
   "metadata": {},
   "outputs": [],
   "source": []
  }
 ],
 "metadata": {
  "kernelspec": {
   "display_name": "Python 3 (ipykernel)",
   "language": "python",
   "name": "python3"
  },
  "language_info": {
   "codemirror_mode": {
    "name": "ipython",
    "version": 3
   },
   "file_extension": ".py",
   "mimetype": "text/x-python",
   "name": "python",
   "nbconvert_exporter": "python",
   "pygments_lexer": "ipython3",
   "version": "3.9.12"
  }
 },
 "nbformat": 4,
 "nbformat_minor": 5
}
